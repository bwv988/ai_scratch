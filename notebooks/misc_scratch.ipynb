{
 "cells": [
  {
   "cell_type": "markdown",
   "id": "ec9a8957",
   "metadata": {},
   "source": [
    "# Notebook with random quick tests.\n",
    "\n",
    "RS20250619"
   ]
  },
  {
   "cell_type": "markdown",
   "id": "d0915645",
   "metadata": {},
   "source": []
  },
  {
   "cell_type": "code",
   "execution_count": null,
   "id": "fc7c18c1",
   "metadata": {},
   "outputs": [],
   "source": []
  }
 ],
 "metadata": {
  "kernelspec": {
   "display_name": "Python 3 (ipykernel)",
   "language": "python",
   "name": "python3"
  },
  "language_info": {
   "codemirror_mode": {
    "name": "ipython",
    "version": 3
   },
   "file_extension": ".py",
   "mimetype": "text/x-python",
   "name": "python",
   "nbconvert_exporter": "python",
   "pygments_lexer": "ipython3",
   "version": "3.12.9"
  }
 },
 "nbformat": 4,
 "nbformat_minor": 5
}
