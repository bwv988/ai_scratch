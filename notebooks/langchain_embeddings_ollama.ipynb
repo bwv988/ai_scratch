{
 "cells": [
  {
   "cell_type": "markdown",
   "id": "ec9a8957",
   "metadata": {},
   "source": [
    "# Using LangChain and Ollama to generate embeddings.\n",
    "\n",
    "RS20250525"
   ]
  },
  {
   "cell_type": "code",
   "execution_count": null,
   "id": "60a7332e",
   "metadata": {},
   "outputs": [],
   "source": [
    "%pip install -qU langchain-ollama"
   ]
  },
  {
   "cell_type": "code",
   "execution_count": null,
   "id": "3eed3075",
   "metadata": {},
   "outputs": [],
   "source": [
    "\n",
    "# Restart the kernel after installing the packages.\n",
    "import os\n",
    "os._exit(0)"
   ]
  },
  {
   "cell_type": "code",
   "execution_count": null,
   "id": "033cd607",
   "metadata": {},
   "outputs": [],
   "source": [
    "from langchain_ollama import OllamaEmbeddings\n",
    "\n",
    "# Use a local llama3.2 model for embeddings.\n",
    "embeddings = OllamaEmbeddings(model=\"llama3.2\")"
   ]
  },
  {
   "cell_type": "code",
   "execution_count": null,
   "id": "d541ef45",
   "metadata": {},
   "outputs": [
    {
     "name": "stdout",
     "output_type": "stream",
     "text": [
      "Cosine similarity: 1.0\n",
      "Cosine distance: 0.0\n",
      "\n",
      "Cosine similarity: 0.5239279906372173\n",
      "Cosine distance: 0.4760720093627827\n",
      "\n",
      "Cosine similarity: 0.8939694667250402\n",
      "Cosine distance: 0.10603053327495982\n",
      "\n"
     ]
    }
   ],
   "source": [
    "import numpy as np\n",
    "\n",
    "def cosine_similarity_embeddings(text1: str, text2: str) -> None:\n",
    "    \"\"\"Calculate cosine similarity between two text embeddings.\"\"\"\n",
    "    vector_1 = embeddings.embed_query(text1)\n",
    "    vector_2 = embeddings.embed_query(text2)\n",
    "    \n",
    "    assert len(vector_1) == len(vector_2)\n",
    "\n",
    "    a = np.array(vector_1)\n",
    "    b = np.array(vector_2)\n",
    "    \n",
    "    cosine_sim = np.dot(a, b) / (np.linalg.norm(a) * np.linalg.norm(b))\n",
    "    print(f\"Cosine similarity: {cosine_sim}\")\n",
    "    print(f\"Cosine distance: {1 - cosine_sim}\\n\")\n",
    "\n",
    "cosine_similarity_embeddings(\"Hello world\", \"Hello world\") # Should be 1.0\n",
    "cosine_similarity_embeddings(\"Hello world\", \"Hello World\")\n",
    "cosine_similarity_embeddings(\"Hello world\", \"Hallo Welt\")\n",
    "cosine_similarity_embeddings(\"Hello world\", \"HEllo world\")\n"
   ]
  },
  {
   "cell_type": "code",
   "execution_count": null,
   "id": "fc7c18c1",
   "metadata": {},
   "outputs": [],
   "source": []
  }
 ],
 "metadata": {
  "kernelspec": {
   "display_name": "Python 3 (ipykernel)",
   "language": "python",
   "name": "python3"
  },
  "language_info": {
   "codemirror_mode": {
    "name": "ipython",
    "version": 3
   },
   "file_extension": ".py",
   "mimetype": "text/x-python",
   "name": "python",
   "nbconvert_exporter": "python",
   "pygments_lexer": "ipython3",
   "version": "3.12.9"
  }
 },
 "nbformat": 4,
 "nbformat_minor": 5
}
