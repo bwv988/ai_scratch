{
 "cells": [
  {
   "cell_type": "markdown",
   "id": "903f3e00",
   "metadata": {},
   "source": [
    "# Playing around with Flux1"
   ]
  },
  {
   "cell_type": "code",
   "execution_count": 8,
   "id": "e14227db",
   "metadata": {},
   "outputs": [
    {
     "name": "stderr",
     "output_type": "stream",
     "text": [
      "huggingface/tokenizers: The current process just got forked, after parallelism has already been used. Disabling parallelism to avoid deadlocks...\n",
      "To disable this warning, you can either:\n",
      "\t- Avoid using `tokenizers` before the fork if possible\n",
      "\t- Explicitly set the environment variable TOKENIZERS_PARALLELISM=(true | false)\n"
     ]
    },
    {
     "name": "stdout",
     "output_type": "stream",
     "text": [
      "Collecting gguf[gui]\n",
      "  Downloading gguf-0.17.1-py3-none-any.whl.metadata (4.3 kB)\n",
      "Collecting PySide6<7.0,>=6.9 (from gguf[gui])\n",
      "  Downloading pyside6-6.9.2-cp39-abi3-macosx_12_0_universal2.whl.metadata (5.3 kB)\n",
      "Requirement already satisfied: numpy>=1.17 in /Users/sral/opt/miniconda3/lib/python3.13/site-packages (from gguf[gui]) (2.3.1)\n",
      "Requirement already satisfied: pyyaml>=5.1 in /Users/sral/opt/miniconda3/lib/python3.13/site-packages (from gguf[gui]) (6.0.2)\n",
      "Requirement already satisfied: tqdm>=4.27 in /Users/sral/opt/miniconda3/lib/python3.13/site-packages (from gguf[gui]) (4.67.1)\n",
      "Collecting shiboken6==6.9.2 (from PySide6<7.0,>=6.9->gguf[gui])\n",
      "  Downloading shiboken6-6.9.2-cp39-abi3-macosx_12_0_universal2.whl.metadata (2.4 kB)\n",
      "Collecting PySide6_Essentials==6.9.2 (from PySide6<7.0,>=6.9->gguf[gui])\n",
      "  Downloading pyside6_essentials-6.9.2-cp39-abi3-macosx_12_0_universal2.whl.metadata (3.6 kB)\n",
      "Collecting PySide6_Addons==6.9.2 (from PySide6<7.0,>=6.9->gguf[gui])\n",
      "  Downloading pyside6_addons-6.9.2-cp39-abi3-macosx_12_0_universal2.whl.metadata (4.0 kB)\n",
      "Downloading gguf-0.17.1-py3-none-any.whl (96 kB)\n",
      "Downloading pyside6-6.9.2-cp39-abi3-macosx_12_0_universal2.whl (558 kB)\n",
      "\u001b[2K   \u001b[90m━━━━━━━━━━━━━━━━━━━━━━━━━━━━━━━━━━━━━━━━\u001b[0m \u001b[32m558.1/558.1 kB\u001b[0m \u001b[31m1.2 MB/s\u001b[0m  \u001b[33m0:00:00\u001b[0m36m-:--:--\u001b[0m\n",
      "\u001b[?25hDownloading pyside6_addons-6.9.2-cp39-abi3-macosx_12_0_universal2.whl (316.7 MB)\n",
      "\u001b[2K   \u001b[90m━━━━━━━━━━━━━━━━━━━━━━━━━━━━━━━━━━━━━━━━\u001b[0m \u001b[32m316.7/316.7 MB\u001b[0m \u001b[31m6.8 MB/s\u001b[0m  \u001b[33m0:00:54\u001b[0mm0:00:01\u001b[0m00:02\u001b[0m\n",
      "\u001b[?25hDownloading pyside6_essentials-6.9.2-cp39-abi3-macosx_12_0_universal2.whl (133.1 MB)\n",
      "\u001b[2K   \u001b[90m━━━━━━━━━━━━━━━━━━━━━━━━━━━━━━━━━━━━━━━━\u001b[0m \u001b[32m133.1/133.1 MB\u001b[0m \u001b[31m7.7 MB/s\u001b[0m  \u001b[33m0:00:17\u001b[0mm0:00:01\u001b[0m00:01\u001b[0m\n",
      "\u001b[?25hDownloading shiboken6-6.9.2-cp39-abi3-macosx_12_0_universal2.whl (406 kB)\n",
      "Installing collected packages: shiboken6, gguf, PySide6_Essentials, PySide6_Addons, PySide6\n",
      "\u001b[2K   \u001b[90m━━━━━━━━━━━━━━━━━━━━━━━━━━━━━━━━━━━━━━━━\u001b[0m \u001b[32m5/5\u001b[0m [PySide6]m3/5\u001b[0m [PySide6_Addons]als]\n",
      "\u001b[1A\u001b[2KSuccessfully installed PySide6-6.9.2 PySide6_Addons-6.9.2 PySide6_Essentials-6.9.2 gguf-0.17.1 shiboken6-6.9.2\n"
     ]
    }
   ],
   "source": [
    "!pip install \"gguf[gui]\""
   ]
  },
  {
   "cell_type": "code",
   "execution_count": 9,
   "id": "616b8296",
   "metadata": {},
   "outputs": [
    {
     "data": {
      "application/vnd.jupyter.widget-view+json": {
       "model_id": "1a65095bd3764ae29987a7710f2bf27a",
       "version_major": 2,
       "version_minor": 0
      },
      "text/plain": [
       "Loading pipeline components...:   0%|          | 0/5 [00:00<?, ?it/s]"
      ]
     },
     "metadata": {},
     "output_type": "display_data"
    },
    {
     "data": {
      "application/vnd.jupyter.widget-view+json": {
       "model_id": "f4042317cfbf4a8e819e2f3363b2f8b5",
       "version_major": 2,
       "version_minor": 0
      },
      "text/plain": [
       "Loading checkpoint shards:   0%|          | 0/2 [00:00<?, ?it/s]"
      ]
     },
     "metadata": {},
     "output_type": "display_data"
    },
    {
     "name": "stdout",
     "output_type": "stream",
     "text": [
      "Encoding prompts.\n"
     ]
    },
    {
     "name": "stderr",
     "output_type": "stream",
     "text": [
      "Loading a GGUF checkpoint in PyTorch, requires both PyTorch and GGUF>=0.10.0 to be installed. Please see https://pytorch.org/ and https://github.com/ggerganov/llama.cpp/tree/master/gguf-py for installation instructions.\n"
     ]
    },
    {
     "ename": "OSError",
     "evalue": "Unable to load weights from checkpoint file for '/Users/sral/Downloads/flux1-dev-Q8_0.gguf' at '/Users/sral/Downloads/flux1-dev-Q8_0.gguf'. ",
     "output_type": "error",
     "traceback": [
      "\u001b[31m---------------------------------------------------------------------------\u001b[39m",
      "\u001b[31mImportError\u001b[39m                               Traceback (most recent call last)",
      "\u001b[36mFile \u001b[39m\u001b[32m~/opt/miniconda3/lib/python3.13/site-packages/diffusers/models/model_loading_utils.py:182\u001b[39m, in \u001b[36mload_state_dict\u001b[39m\u001b[34m(checkpoint_file, dduf_entries, disable_mmap, map_location)\u001b[39m\n\u001b[32m    181\u001b[39m \u001b[38;5;28;01melif\u001b[39;00m file_extension == GGUF_FILE_EXTENSION:\n\u001b[32m--> \u001b[39m\u001b[32m182\u001b[39m     \u001b[38;5;28;01mreturn\u001b[39;00m \u001b[43mload_gguf_checkpoint\u001b[49m\u001b[43m(\u001b[49m\u001b[43mcheckpoint_file\u001b[49m\u001b[43m)\u001b[49m\n\u001b[32m    183\u001b[39m \u001b[38;5;28;01melse\u001b[39;00m:\n",
      "\u001b[36mFile \u001b[39m\u001b[32m~/opt/miniconda3/lib/python3.13/site-packages/diffusers/models/model_loading_utils.py:660\u001b[39m, in \u001b[36mload_gguf_checkpoint\u001b[39m\u001b[34m(gguf_checkpoint_path, return_tensors)\u001b[39m\n\u001b[32m    656\u001b[39m     logger.error(\n\u001b[32m    657\u001b[39m         \u001b[33m\"\u001b[39m\u001b[33mLoading a GGUF checkpoint in PyTorch, requires both PyTorch and GGUF>=0.10.0 to be installed. Please see \u001b[39m\u001b[33m\"\u001b[39m\n\u001b[32m    658\u001b[39m         \u001b[33m\"\u001b[39m\u001b[33mhttps://pytorch.org/ and https://github.com/ggerganov/llama.cpp/tree/master/gguf-py for installation instructions.\u001b[39m\u001b[33m\"\u001b[39m\n\u001b[32m    659\u001b[39m     )\n\u001b[32m--> \u001b[39m\u001b[32m660\u001b[39m     \u001b[38;5;28;01mraise\u001b[39;00m \u001b[38;5;167;01mImportError\u001b[39;00m(\u001b[33m\"\u001b[39m\u001b[33mPlease install torch and gguf>=0.10.0 to load a GGUF checkpoint in PyTorch.\u001b[39m\u001b[33m\"\u001b[39m)\n\u001b[32m    662\u001b[39m reader = GGUFReader(gguf_checkpoint_path)\n",
      "\u001b[31mImportError\u001b[39m: Please install torch and gguf>=0.10.0 to load a GGUF checkpoint in PyTorch.",
      "\nDuring handling of the above exception, another exception occurred:\n",
      "\u001b[31mUnicodeDecodeError\u001b[39m                        Traceback (most recent call last)",
      "\u001b[36mFile \u001b[39m\u001b[32m~/opt/miniconda3/lib/python3.13/site-packages/diffusers/models/model_loading_utils.py:199\u001b[39m, in \u001b[36mload_state_dict\u001b[39m\u001b[34m(checkpoint_file, dduf_entries, disable_mmap, map_location)\u001b[39m\n\u001b[32m    198\u001b[39m \u001b[38;5;28;01mwith\u001b[39;00m \u001b[38;5;28mopen\u001b[39m(checkpoint_file) \u001b[38;5;28;01mas\u001b[39;00m f:\n\u001b[32m--> \u001b[39m\u001b[32m199\u001b[39m     \u001b[38;5;28;01mif\u001b[39;00m \u001b[43mf\u001b[49m\u001b[43m.\u001b[49m\u001b[43mread\u001b[49m\u001b[43m(\u001b[49m\u001b[43m)\u001b[49m.startswith(\u001b[33m\"\u001b[39m\u001b[33mversion\u001b[39m\u001b[33m\"\u001b[39m):\n\u001b[32m    200\u001b[39m         \u001b[38;5;28;01mraise\u001b[39;00m \u001b[38;5;167;01mOSError\u001b[39;00m(\n\u001b[32m    201\u001b[39m             \u001b[33m\"\u001b[39m\u001b[33mYou seem to have cloned a repository without having git-lfs installed. Please install \u001b[39m\u001b[33m\"\u001b[39m\n\u001b[32m    202\u001b[39m             \u001b[33m\"\u001b[39m\u001b[33mgit-lfs and run `git lfs install` followed by `git lfs pull` in the folder \u001b[39m\u001b[33m\"\u001b[39m\n\u001b[32m    203\u001b[39m             \u001b[33m\"\u001b[39m\u001b[33myou cloned.\u001b[39m\u001b[33m\"\u001b[39m\n\u001b[32m    204\u001b[39m         )\n",
      "\u001b[36mFile \u001b[39m\u001b[32m~/opt/miniconda3/lib/python3.13/codecs.py:325\u001b[39m, in \u001b[36mBufferedIncrementalDecoder.decode\u001b[39m\u001b[34m(self, input, final)\u001b[39m\n\u001b[32m    324\u001b[39m data = \u001b[38;5;28mself\u001b[39m.buffer + \u001b[38;5;28minput\u001b[39m\n\u001b[32m--> \u001b[39m\u001b[32m325\u001b[39m (result, consumed) = \u001b[38;5;28;43mself\u001b[39;49m\u001b[43m.\u001b[49m\u001b[43m_buffer_decode\u001b[49m\u001b[43m(\u001b[49m\u001b[43mdata\u001b[49m\u001b[43m,\u001b[49m\u001b[43m \u001b[49m\u001b[38;5;28;43mself\u001b[39;49m\u001b[43m.\u001b[49m\u001b[43merrors\u001b[49m\u001b[43m,\u001b[49m\u001b[43m \u001b[49m\u001b[43mfinal\u001b[49m\u001b[43m)\u001b[49m\n\u001b[32m    326\u001b[39m \u001b[38;5;66;03m# keep undecoded input until the next call\u001b[39;00m\n",
      "\u001b[31mUnicodeDecodeError\u001b[39m: 'utf-8' codec can't decode byte 0x80 in position 201: invalid start byte",
      "\nDuring handling of the above exception, another exception occurred:\n",
      "\u001b[31mOSError\u001b[39m                                   Traceback (most recent call last)",
      "\u001b[36mCell\u001b[39m\u001b[36m \u001b[39m\u001b[32mIn[9]\u001b[39m\u001b[32m, line 38\u001b[39m\n\u001b[32m     35\u001b[39m \u001b[38;5;66;03m#ckpt_path = \"https://huggingface.co/city96/FLUX.1-dev-gguf/blob/main/flux1-dev-Q8_0.gguf\"\u001b[39;00m\n\u001b[32m     36\u001b[39m ckpt_path = \u001b[33m\"\u001b[39m\u001b[33m/Users/sral/Downloads/flux1-dev-Q8_0.gguf\u001b[39m\u001b[33m\"\u001b[39m\n\u001b[32m---> \u001b[39m\u001b[32m38\u001b[39m transformer = \u001b[43mFluxTransformer2DModel\u001b[49m\u001b[43m.\u001b[49m\u001b[43mfrom_single_file\u001b[49m\u001b[43m(\u001b[49m\n\u001b[32m     39\u001b[39m \u001b[43m    \u001b[49m\u001b[43mckpt_path\u001b[49m\u001b[43m,\u001b[49m\n\u001b[32m     40\u001b[39m \u001b[43m    \u001b[49m\u001b[43mquantization_config\u001b[49m\u001b[43m=\u001b[49m\u001b[43mGGUFQuantizationConfig\u001b[49m\u001b[43m(\u001b[49m\u001b[43mcompute_dtype\u001b[49m\u001b[43m=\u001b[49m\u001b[43mtorch\u001b[49m\u001b[43m.\u001b[49m\u001b[43mbfloat16\u001b[49m\u001b[43m)\u001b[49m\u001b[43m,\u001b[49m\n\u001b[32m     41\u001b[39m \u001b[43m    \u001b[49m\u001b[43mtorch_dtype\u001b[49m\u001b[43m=\u001b[49m\u001b[43mtorch\u001b[49m\u001b[43m.\u001b[49m\u001b[43mbfloat16\u001b[49m\u001b[43m,\u001b[49m\n\u001b[32m     42\u001b[39m \u001b[43m)\u001b[49m\n\u001b[32m     44\u001b[39m pipeline = FluxPipeline.from_pretrained(\n\u001b[32m     45\u001b[39m     \u001b[33m\"\u001b[39m\u001b[33mblack-forest-labs/FLUX.1-dev\u001b[39m\u001b[33m\"\u001b[39m,\n\u001b[32m     46\u001b[39m     text_encoder=\u001b[38;5;28;01mNone\u001b[39;00m,\n\u001b[32m   (...)\u001b[39m\u001b[32m     51\u001b[39m     torch_dtype=torch.bfloat16,\n\u001b[32m     52\u001b[39m ).to(\u001b[33m\"\u001b[39m\u001b[33mmps\u001b[39m\u001b[33m\"\u001b[39m)\n\u001b[32m     54\u001b[39m \u001b[38;5;28mprint\u001b[39m(\u001b[33m\"\u001b[39m\u001b[33mRunning denoising.\u001b[39m\u001b[33m\"\u001b[39m)\n",
      "\u001b[36mFile \u001b[39m\u001b[32m~/opt/miniconda3/lib/python3.13/site-packages/huggingface_hub/utils/_validators.py:114\u001b[39m, in \u001b[36mvalidate_hf_hub_args.<locals>._inner_fn\u001b[39m\u001b[34m(*args, **kwargs)\u001b[39m\n\u001b[32m    111\u001b[39m \u001b[38;5;28;01mif\u001b[39;00m check_use_auth_token:\n\u001b[32m    112\u001b[39m     kwargs = smoothly_deprecate_use_auth_token(fn_name=fn.\u001b[34m__name__\u001b[39m, has_token=has_token, kwargs=kwargs)\n\u001b[32m--> \u001b[39m\u001b[32m114\u001b[39m \u001b[38;5;28;01mreturn\u001b[39;00m \u001b[43mfn\u001b[49m\u001b[43m(\u001b[49m\u001b[43m*\u001b[49m\u001b[43margs\u001b[49m\u001b[43m,\u001b[49m\u001b[43m \u001b[49m\u001b[43m*\u001b[49m\u001b[43m*\u001b[49m\u001b[43mkwargs\u001b[49m\u001b[43m)\u001b[49m\n",
      "\u001b[36mFile \u001b[39m\u001b[32m~/opt/miniconda3/lib/python3.13/site-packages/diffusers/loaders/single_file_model.py:315\u001b[39m, in \u001b[36mFromOriginalModelMixin.from_single_file\u001b[39m\u001b[34m(cls, pretrained_model_link_or_path_or_dict, **kwargs)\u001b[39m\n\u001b[32m    313\u001b[39m     checkpoint = pretrained_model_link_or_path_or_dict\n\u001b[32m    314\u001b[39m \u001b[38;5;28;01melse\u001b[39;00m:\n\u001b[32m--> \u001b[39m\u001b[32m315\u001b[39m     checkpoint = \u001b[43mload_single_file_checkpoint\u001b[49m\u001b[43m(\u001b[49m\n\u001b[32m    316\u001b[39m \u001b[43m        \u001b[49m\u001b[43mpretrained_model_link_or_path_or_dict\u001b[49m\u001b[43m,\u001b[49m\n\u001b[32m    317\u001b[39m \u001b[43m        \u001b[49m\u001b[43mforce_download\u001b[49m\u001b[43m=\u001b[49m\u001b[43mforce_download\u001b[49m\u001b[43m,\u001b[49m\n\u001b[32m    318\u001b[39m \u001b[43m        \u001b[49m\u001b[43mproxies\u001b[49m\u001b[43m=\u001b[49m\u001b[43mproxies\u001b[49m\u001b[43m,\u001b[49m\n\u001b[32m    319\u001b[39m \u001b[43m        \u001b[49m\u001b[43mtoken\u001b[49m\u001b[43m=\u001b[49m\u001b[43mtoken\u001b[49m\u001b[43m,\u001b[49m\n\u001b[32m    320\u001b[39m \u001b[43m        \u001b[49m\u001b[43mcache_dir\u001b[49m\u001b[43m=\u001b[49m\u001b[43mcache_dir\u001b[49m\u001b[43m,\u001b[49m\n\u001b[32m    321\u001b[39m \u001b[43m        \u001b[49m\u001b[43mlocal_files_only\u001b[49m\u001b[43m=\u001b[49m\u001b[43mlocal_files_only\u001b[49m\u001b[43m,\u001b[49m\n\u001b[32m    322\u001b[39m \u001b[43m        \u001b[49m\u001b[43mrevision\u001b[49m\u001b[43m=\u001b[49m\u001b[43mrevision\u001b[49m\u001b[43m,\u001b[49m\n\u001b[32m    323\u001b[39m \u001b[43m        \u001b[49m\u001b[43mdisable_mmap\u001b[49m\u001b[43m=\u001b[49m\u001b[43mdisable_mmap\u001b[49m\u001b[43m,\u001b[49m\n\u001b[32m    324\u001b[39m \u001b[43m        \u001b[49m\u001b[43muser_agent\u001b[49m\u001b[43m=\u001b[49m\u001b[43muser_agent\u001b[49m\u001b[43m,\u001b[49m\n\u001b[32m    325\u001b[39m \u001b[43m    \u001b[49m\u001b[43m)\u001b[49m\n\u001b[32m    326\u001b[39m \u001b[38;5;28;01mif\u001b[39;00m quantization_config \u001b[38;5;129;01mis\u001b[39;00m \u001b[38;5;129;01mnot\u001b[39;00m \u001b[38;5;28;01mNone\u001b[39;00m:\n\u001b[32m    327\u001b[39m     hf_quantizer = DiffusersAutoQuantizer.from_config(quantization_config)\n",
      "\u001b[36mFile \u001b[39m\u001b[32m~/opt/miniconda3/lib/python3.13/site-packages/diffusers/loaders/single_file_utils.py:456\u001b[39m, in \u001b[36mload_single_file_checkpoint\u001b[39m\u001b[34m(pretrained_model_link_or_path, force_download, proxies, token, cache_dir, local_files_only, revision, disable_mmap, user_agent)\u001b[39m\n\u001b[32m    443\u001b[39m     repo_id, weights_name = _extract_repo_id_and_weights_name(pretrained_model_link_or_path)\n\u001b[32m    444\u001b[39m     pretrained_model_link_or_path = _get_model_file(\n\u001b[32m    445\u001b[39m         repo_id,\n\u001b[32m    446\u001b[39m         weights_name=weights_name,\n\u001b[32m   (...)\u001b[39m\u001b[32m    453\u001b[39m         user_agent=user_agent,\n\u001b[32m    454\u001b[39m     )\n\u001b[32m--> \u001b[39m\u001b[32m456\u001b[39m checkpoint = \u001b[43mload_state_dict\u001b[49m\u001b[43m(\u001b[49m\u001b[43mpretrained_model_link_or_path\u001b[49m\u001b[43m,\u001b[49m\u001b[43m \u001b[49m\u001b[43mdisable_mmap\u001b[49m\u001b[43m=\u001b[49m\u001b[43mdisable_mmap\u001b[49m\u001b[43m)\u001b[49m\n\u001b[32m    458\u001b[39m \u001b[38;5;66;03m# some checkpoints contain the model state dict under a \"state_dict\" key\u001b[39;00m\n\u001b[32m    459\u001b[39m \u001b[38;5;28;01mwhile\u001b[39;00m \u001b[33m\"\u001b[39m\u001b[33mstate_dict\u001b[39m\u001b[33m\"\u001b[39m \u001b[38;5;129;01min\u001b[39;00m checkpoint:\n",
      "\u001b[36mFile \u001b[39m\u001b[32m~/opt/miniconda3/lib/python3.13/site-packages/diffusers/models/model_loading_utils.py:211\u001b[39m, in \u001b[36mload_state_dict\u001b[39m\u001b[34m(checkpoint_file, dduf_entries, disable_mmap, map_location)\u001b[39m\n\u001b[32m    206\u001b[39m             \u001b[38;5;28;01mraise\u001b[39;00m \u001b[38;5;167;01mValueError\u001b[39;00m(\n\u001b[32m    207\u001b[39m                 \u001b[33mf\u001b[39m\u001b[33m\"\u001b[39m\u001b[33mUnable to locate the file \u001b[39m\u001b[38;5;132;01m{\u001b[39;00mcheckpoint_file\u001b[38;5;132;01m}\u001b[39;00m\u001b[33m which is necessary to load this pretrained \u001b[39m\u001b[33m\"\u001b[39m\n\u001b[32m    208\u001b[39m                 \u001b[33m\"\u001b[39m\u001b[33mmodel. Make sure you have saved the model properly.\u001b[39m\u001b[33m\"\u001b[39m\n\u001b[32m    209\u001b[39m             ) \u001b[38;5;28;01mfrom\u001b[39;00m\u001b[38;5;250m \u001b[39m\u001b[34;01me\u001b[39;00m\n\u001b[32m    210\u001b[39m \u001b[38;5;28;01mexcept\u001b[39;00m (\u001b[38;5;167;01mUnicodeDecodeError\u001b[39;00m, \u001b[38;5;167;01mValueError\u001b[39;00m):\n\u001b[32m--> \u001b[39m\u001b[32m211\u001b[39m     \u001b[38;5;28;01mraise\u001b[39;00m \u001b[38;5;167;01mOSError\u001b[39;00m(\n\u001b[32m    212\u001b[39m         \u001b[33mf\u001b[39m\u001b[33m\"\u001b[39m\u001b[33mUnable to load weights from checkpoint file for \u001b[39m\u001b[33m'\u001b[39m\u001b[38;5;132;01m{\u001b[39;00mcheckpoint_file\u001b[38;5;132;01m}\u001b[39;00m\u001b[33m'\u001b[39m\u001b[33m at \u001b[39m\u001b[33m'\u001b[39m\u001b[38;5;132;01m{\u001b[39;00mcheckpoint_file\u001b[38;5;132;01m}\u001b[39;00m\u001b[33m'\u001b[39m\u001b[33m. \u001b[39m\u001b[33m\"\u001b[39m\n\u001b[32m    213\u001b[39m     )\n",
      "\u001b[31mOSError\u001b[39m: Unable to load weights from checkpoint file for '/Users/sral/Downloads/flux1-dev-Q8_0.gguf' at '/Users/sral/Downloads/flux1-dev-Q8_0.gguf'. "
     ]
    }
   ],
   "source": [
    "from diffusers import FluxPipeline, FluxTransformer2DModel, GGUFQuantizationConfig\n",
    "import torch\n",
    "import gc\n",
    "\n",
    "torch.mps.set_per_process_memory_fraction(0.0)\n",
    "\n",
    "def flush():\n",
    "    gc.collect()\n",
    "    torch.mps.empty_cache()\n",
    "    gc.collect()\n",
    "    torch.mps.empty_cache()\n",
    "\n",
    "prompt = \"a moonim dressed as a knight, riding a horse towards a medieval castle\"\n",
    "\n",
    "ckpt_id = \"black-forest-labs/FLUX.1-dev\"\n",
    "\n",
    "pipeline = FluxPipeline.from_pretrained(\n",
    "    ckpt_id,\n",
    "    transformer=None,\n",
    "    vae=None,\n",
    "    torch_dtype=torch.bfloat16,\n",
    ").to(\"mps\")\n",
    "\n",
    "with torch.no_grad():\n",
    "    print(\"Encoding prompts.\")\n",
    "    prompt_embeds, pooled_prompt_embeds, text_ids = pipeline.encode_prompt(\n",
    "        prompt=prompt, prompt_2=prompt, max_sequence_length=256\n",
    "    )\n",
    "\n",
    "\n",
    "del pipeline\n",
    "\n",
    "flush()\n",
    "\n",
    "#ckpt_path = \"https://huggingface.co/city96/FLUX.1-dev-gguf/blob/main/flux1-dev-Q8_0.gguf\"\n",
    "ckpt_path = \"/Users/sral/Downloads/flux1-dev-Q8_0.gguf\"\n",
    "\n",
    "transformer = FluxTransformer2DModel.from_single_file(\n",
    "    ckpt_path,\n",
    "    quantization_config=GGUFQuantizationConfig(compute_dtype=torch.bfloat16),\n",
    "    torch_dtype=torch.bfloat16,\n",
    ")\n",
    "\n",
    "pipeline = FluxPipeline.from_pretrained(\n",
    "    \"black-forest-labs/FLUX.1-dev\",\n",
    "    text_encoder=None,\n",
    "    text_encoder_2=None,\n",
    "    tokenizer=None,\n",
    "    tokenizer_2=None,\n",
    "    transformer=transformer,\n",
    "    torch_dtype=torch.bfloat16,\n",
    ").to(\"mps\")\n",
    "\n",
    "print(\"Running denoising.\")\n",
    "height, width = 1024, 1024\n",
    "# No need to wrap it up under `torch.no_grad()` as pipeline call method\n",
    "# is already wrapped under that.\n",
    "images = pipeline(\n",
    "    prompt_embeds=prompt_embeds,\n",
    "    pooled_prompt_embeds=pooled_prompt_embeds,\n",
    "    num_inference_steps=15,\n",
    "    guidance_scale=5.0,\n",
    "    height=height,\n",
    "    width=width,\n",
    "    generator=torch.Generator(\"mps\").manual_seed(42)\n",
    ").images[0]\n",
    "\n",
    "images.save(\"compile_image.png\")"
   ]
  },
  {
   "cell_type": "code",
   "execution_count": null,
   "id": "b04adf1d",
   "metadata": {},
   "outputs": [],
   "source": []
  }
 ],
 "metadata": {
  "kernelspec": {
   "display_name": "Python 3 (ipykernel)",
   "language": "python",
   "name": "python3"
  }
 },
 "nbformat": 4,
 "nbformat_minor": 5
}
